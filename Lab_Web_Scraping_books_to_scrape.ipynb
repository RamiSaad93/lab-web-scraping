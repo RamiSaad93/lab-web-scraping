{
 "cells": [
  {
   "cell_type": "code",
   "execution_count": 2,
   "id": "48213700",
   "metadata": {},
   "outputs": [
    {
     "name": "stdout",
     "output_type": "stream",
     "text": [
      "Requirement already satisfied: requests in c:\\users\\ramya\\anaconda3\\lib\\site-packages (2.28.1)\n",
      "Requirement already satisfied: beautifulsoup4 in c:\\users\\ramya\\anaconda3\\lib\\site-packages (4.11.1)\n",
      "Requirement already satisfied: urllib3<1.27,>=1.21.1 in c:\\users\\ramya\\anaconda3\\lib\\site-packages (from requests) (1.26.11)\n",
      "Requirement already satisfied: certifi>=2017.4.17 in c:\\users\\ramya\\anaconda3\\lib\\site-packages (from requests) (2024.2.2)\n",
      "Requirement already satisfied: charset-normalizer<3,>=2 in c:\\users\\ramya\\anaconda3\\lib\\site-packages (from requests) (2.0.4)\n",
      "Requirement already satisfied: idna<4,>=2.5 in c:\\users\\ramya\\anaconda3\\lib\\site-packages (from requests) (3.3)\n",
      "Requirement already satisfied: soupsieve>1.2 in c:\\users\\ramya\\anaconda3\\lib\\site-packages (from beautifulsoup4) (2.3.1)\n"
     ]
    }
   ],
   "source": [
    "!pip install requests beautifulsoup4\n",
    "\n",
    "\n",
    "import pandas as pd\n",
    "from bs4 import BeautifulSoup\n",
    "import requests"
   ]
  },
  {
   "cell_type": "code",
   "execution_count": 3,
   "id": "4342acd8",
   "metadata": {},
   "outputs": [
    {
     "name": "stdout",
     "output_type": "stream",
     "text": [
      "Request successful\n"
     ]
    },
    {
     "data": {
      "text/plain": [
       "<Response [200]>"
      ]
     },
     "execution_count": 3,
     "metadata": {},
     "output_type": "execute_result"
    }
   ],
   "source": [
    "url = \"https://books.toscrape.com/catalogue/category/books/travel_2/index.html\"\n",
    "\n",
    "response = requests.get(url)\n",
    "\n",
    "if response.status_code == 200:\n",
    "    print(\"Request successful\")\n",
    "else:\n",
    "    print(\"Error:\", response.status_code)\n",
    "\n",
    "response"
   ]
  },
  {
   "cell_type": "code",
   "execution_count": 4,
   "id": "cfb01836",
   "metadata": {},
   "outputs": [],
   "source": [
    "soup = BeautifulSoup(response.content, \"html.parser\")"
   ]
  },
  {
   "cell_type": "code",
   "execution_count": 5,
   "id": "781af8ba",
   "metadata": {},
   "outputs": [
    {
     "data": {
      "text/plain": [
       "[<a href=\"../../../its-only-the-himalayas_981/index.html\" title=\"It's Only the Himalayas\">It's Only the Himalayas</a>,\n",
       " <a href=\"../../../full-moon-over-noahs-ark-an-odyssey-to-mount-ararat-and-beyond_811/index.html\" title=\"Full Moon over Noah’s Ark: An Odyssey to Mount Ararat and Beyond\">Full Moon over Noah’s ...</a>,\n",
       " <a href=\"../../../see-america-a-celebration-of-our-national-parks-treasured-sites_732/index.html\" title=\"See America: A Celebration of Our National Parks &amp; Treasured Sites\">See America: A Celebration ...</a>,\n",
       " <a href=\"../../../vagabonding-an-uncommon-guide-to-the-art-of-long-term-world-travel_552/index.html\" title=\"Vagabonding: An Uncommon Guide to the Art of Long-Term World Travel\">Vagabonding: An Uncommon Guide ...</a>,\n",
       " <a href=\"../../../under-the-tuscan-sun_504/index.html\" title=\"Under the Tuscan Sun\">Under the Tuscan Sun</a>,\n",
       " <a href=\"../../../a-summer-in-europe_458/index.html\" title=\"A Summer In Europe\">A Summer In Europe</a>,\n",
       " <a href=\"../../../the-great-railway-bazaar_446/index.html\" title=\"The Great Railway Bazaar\">The Great Railway Bazaar</a>,\n",
       " <a href=\"../../../a-year-in-provence-provence-1_421/index.html\" title=\"A Year in Provence (Provence #1)\">A Year in Provence ...</a>,\n",
       " <a href=\"../../../the-road-to-little-dribbling-adventures-of-an-american-in-britain-notes-from-a-small-island-2_277/index.html\" title=\"The Road to Little Dribbling: Adventures of an American in Britain (Notes From a Small Island #2)\">The Road to Little ...</a>,\n",
       " <a href=\"../../../neither-here-nor-there-travels-in-europe_198/index.html\" title=\"Neither Here nor There: Travels in Europe\">Neither Here nor There: ...</a>,\n",
       " <a href=\"../../../1000-places-to-see-before-you-die_1/index.html\" title=\"1,000 Places to See Before You Die\">1,000 Places to See ...</a>]"
      ]
     },
     "execution_count": 5,
     "metadata": {},
     "output_type": "execute_result"
    }
   ],
   "source": [
    "title_element = soup.find_all(\"a\", title= True)\n",
    "title_element"
   ]
  },
  {
   "cell_type": "code",
   "execution_count": 9,
   "id": "8622baec",
   "metadata": {},
   "outputs": [
    {
     "data": {
      "text/plain": [
       "'Full Moon over Noah’s Ark: An Odyssey to Mount Ararat and Beyond'"
      ]
     },
     "execution_count": 9,
     "metadata": {},
     "output_type": "execute_result"
    }
   ],
   "source": [
    "title = title_element[1].get(\"title\")\n",
    "title"
   ]
  },
  {
   "cell_type": "code",
   "execution_count": 103,
   "id": "35ddc993",
   "metadata": {},
   "outputs": [
    {
     "data": {
      "text/plain": [
       "[\"It's Only the Himalayas\",\n",
       " 'Full Moon over Noah’s Ark: An Odyssey to Mount Ararat and Beyond',\n",
       " 'See America: A Celebration of Our National Parks & Treasured Sites',\n",
       " 'Vagabonding: An Uncommon Guide to the Art of Long-Term World Travel',\n",
       " 'Under the Tuscan Sun',\n",
       " 'A Summer In Europe',\n",
       " 'The Great Railway Bazaar',\n",
       " 'A Year in Provence (Provence #1)',\n",
       " 'The Road to Little Dribbling: Adventures of an American in Britain (Notes From a Small Island #2)',\n",
       " 'Neither Here nor There: Travels in Europe',\n",
       " '1,000 Places to See Before You Die']"
      ]
     },
     "execution_count": 103,
     "metadata": {},
     "output_type": "execute_result"
    }
   ],
   "source": [
    "title_element = soup.find_all(\"a\", title= True)\n",
    "\n",
    "titles = []\n",
    "for x in title_element:\n",
    "    title = x.get(\"title\")\n",
    "    titles.append(title)\n",
    "    \n",
    "titles"
   ]
  },
  {
   "cell_type": "code",
   "execution_count": 104,
   "id": "019e1bc3",
   "metadata": {},
   "outputs": [
    {
     "data": {
      "text/plain": [
       "['£45.17',\n",
       " '£49.43',\n",
       " '£48.87',\n",
       " '£36.94',\n",
       " '£37.33',\n",
       " '£44.34',\n",
       " '£30.54',\n",
       " '£56.88',\n",
       " '£23.21',\n",
       " '£38.95',\n",
       " '£26.08']"
      ]
     },
     "execution_count": 104,
     "metadata": {},
     "output_type": "execute_result"
    }
   ],
   "source": [
    "price_element = soup.find_all(\"p\", class_=\"price_color\")\n",
    "price_element\n",
    "\n",
    "\n",
    "prices = []\n",
    "for i in price_element:\n",
    "    price = i.get_text()\n",
    "    prices.append(price)\n",
    "    \n",
    "prices"
   ]
  },
  {
   "cell_type": "code",
   "execution_count": 105,
   "id": "03d4386e",
   "metadata": {},
   "outputs": [
    {
     "data": {
      "text/plain": [
       "[<p class=\"star-rating Two\">\n",
       " <i class=\"icon-star\"></i>\n",
       " <i class=\"icon-star\"></i>\n",
       " <i class=\"icon-star\"></i>\n",
       " <i class=\"icon-star\"></i>\n",
       " <i class=\"icon-star\"></i>\n",
       " </p>,\n",
       " <p class=\"star-rating Four\">\n",
       " <i class=\"icon-star\"></i>\n",
       " <i class=\"icon-star\"></i>\n",
       " <i class=\"icon-star\"></i>\n",
       " <i class=\"icon-star\"></i>\n",
       " <i class=\"icon-star\"></i>\n",
       " </p>,\n",
       " <p class=\"star-rating Three\">\n",
       " <i class=\"icon-star\"></i>\n",
       " <i class=\"icon-star\"></i>\n",
       " <i class=\"icon-star\"></i>\n",
       " <i class=\"icon-star\"></i>\n",
       " <i class=\"icon-star\"></i>\n",
       " </p>,\n",
       " <p class=\"star-rating Two\">\n",
       " <i class=\"icon-star\"></i>\n",
       " <i class=\"icon-star\"></i>\n",
       " <i class=\"icon-star\"></i>\n",
       " <i class=\"icon-star\"></i>\n",
       " <i class=\"icon-star\"></i>\n",
       " </p>,\n",
       " <p class=\"star-rating Three\">\n",
       " <i class=\"icon-star\"></i>\n",
       " <i class=\"icon-star\"></i>\n",
       " <i class=\"icon-star\"></i>\n",
       " <i class=\"icon-star\"></i>\n",
       " <i class=\"icon-star\"></i>\n",
       " </p>,\n",
       " <p class=\"star-rating Two\">\n",
       " <i class=\"icon-star\"></i>\n",
       " <i class=\"icon-star\"></i>\n",
       " <i class=\"icon-star\"></i>\n",
       " <i class=\"icon-star\"></i>\n",
       " <i class=\"icon-star\"></i>\n",
       " </p>,\n",
       " <p class=\"star-rating One\">\n",
       " <i class=\"icon-star\"></i>\n",
       " <i class=\"icon-star\"></i>\n",
       " <i class=\"icon-star\"></i>\n",
       " <i class=\"icon-star\"></i>\n",
       " <i class=\"icon-star\"></i>\n",
       " </p>,\n",
       " <p class=\"star-rating Four\">\n",
       " <i class=\"icon-star\"></i>\n",
       " <i class=\"icon-star\"></i>\n",
       " <i class=\"icon-star\"></i>\n",
       " <i class=\"icon-star\"></i>\n",
       " <i class=\"icon-star\"></i>\n",
       " </p>,\n",
       " <p class=\"star-rating One\">\n",
       " <i class=\"icon-star\"></i>\n",
       " <i class=\"icon-star\"></i>\n",
       " <i class=\"icon-star\"></i>\n",
       " <i class=\"icon-star\"></i>\n",
       " <i class=\"icon-star\"></i>\n",
       " </p>,\n",
       " <p class=\"star-rating Three\">\n",
       " <i class=\"icon-star\"></i>\n",
       " <i class=\"icon-star\"></i>\n",
       " <i class=\"icon-star\"></i>\n",
       " <i class=\"icon-star\"></i>\n",
       " <i class=\"icon-star\"></i>\n",
       " </p>,\n",
       " <p class=\"star-rating Five\">\n",
       " <i class=\"icon-star\"></i>\n",
       " <i class=\"icon-star\"></i>\n",
       " <i class=\"icon-star\"></i>\n",
       " <i class=\"icon-star\"></i>\n",
       " <i class=\"icon-star\"></i>\n",
       " </p>]"
      ]
     },
     "execution_count": 105,
     "metadata": {},
     "output_type": "execute_result"
    }
   ],
   "source": [
    "stars = soup.find_all(\"p\", class_=\"star-rating\")\n",
    "stars"
   ]
  },
  {
   "cell_type": "code",
   "execution_count": 106,
   "id": "6fe39f3d",
   "metadata": {},
   "outputs": [
    {
     "data": {
      "text/plain": [
       "['star-rating', 'Two']"
      ]
     },
     "execution_count": 106,
     "metadata": {},
     "output_type": "execute_result"
    }
   ],
   "source": [
    "stars[0].get(\"class\")"
   ]
  },
  {
   "cell_type": "code",
   "execution_count": 107,
   "id": "b86c5d0a",
   "metadata": {},
   "outputs": [],
   "source": [
    "rating_list = []\n",
    "for i in stars:\n",
    "    rating = i.get('class')[1]\n",
    "    rating_list.append(rating)"
   ]
  },
  {
   "cell_type": "code",
   "execution_count": 108,
   "id": "e2448cd8",
   "metadata": {},
   "outputs": [
    {
     "data": {
      "text/plain": [
       "['Two',\n",
       " 'Four',\n",
       " 'Three',\n",
       " 'Two',\n",
       " 'Three',\n",
       " 'Two',\n",
       " 'One',\n",
       " 'Four',\n",
       " 'One',\n",
       " 'Three',\n",
       " 'Five']"
      ]
     },
     "execution_count": 108,
     "metadata": {},
     "output_type": "execute_result"
    }
   ],
   "source": [
    "rating_list"
   ]
  },
  {
   "cell_type": "code",
   "execution_count": 109,
   "id": "41f0561a",
   "metadata": {},
   "outputs": [],
   "source": [
    "book_dict = {\"Title\":titles, \"Rating\":rating_list, \"Price\":price}"
   ]
  },
  {
   "cell_type": "code",
   "execution_count": 114,
   "id": "170c778f",
   "metadata": {},
   "outputs": [
    {
     "data": {
      "text/html": [
       "<div>\n",
       "<style scoped>\n",
       "    .dataframe tbody tr th:only-of-type {\n",
       "        vertical-align: middle;\n",
       "    }\n",
       "\n",
       "    .dataframe tbody tr th {\n",
       "        vertical-align: top;\n",
       "    }\n",
       "\n",
       "    .dataframe thead th {\n",
       "        text-align: right;\n",
       "    }\n",
       "</style>\n",
       "<table border=\"1\" class=\"dataframe\">\n",
       "  <thead>\n",
       "    <tr style=\"text-align: right;\">\n",
       "      <th></th>\n",
       "      <th>Title</th>\n",
       "      <th>Rating</th>\n",
       "      <th>Price</th>\n",
       "    </tr>\n",
       "  </thead>\n",
       "  <tbody>\n",
       "    <tr>\n",
       "      <th>0</th>\n",
       "      <td>It's Only the Himalayas</td>\n",
       "      <td>Two</td>\n",
       "      <td>£26.08</td>\n",
       "    </tr>\n",
       "    <tr>\n",
       "      <th>1</th>\n",
       "      <td>Full Moon over Noah’s Ark: An Odyssey to Mount...</td>\n",
       "      <td>Four</td>\n",
       "      <td>£26.08</td>\n",
       "    </tr>\n",
       "    <tr>\n",
       "      <th>2</th>\n",
       "      <td>See America: A Celebration of Our National Par...</td>\n",
       "      <td>Three</td>\n",
       "      <td>£26.08</td>\n",
       "    </tr>\n",
       "    <tr>\n",
       "      <th>3</th>\n",
       "      <td>Vagabonding: An Uncommon Guide to the Art of L...</td>\n",
       "      <td>Two</td>\n",
       "      <td>£26.08</td>\n",
       "    </tr>\n",
       "    <tr>\n",
       "      <th>4</th>\n",
       "      <td>Under the Tuscan Sun</td>\n",
       "      <td>Three</td>\n",
       "      <td>£26.08</td>\n",
       "    </tr>\n",
       "    <tr>\n",
       "      <th>5</th>\n",
       "      <td>A Summer In Europe</td>\n",
       "      <td>Two</td>\n",
       "      <td>£26.08</td>\n",
       "    </tr>\n",
       "    <tr>\n",
       "      <th>6</th>\n",
       "      <td>The Great Railway Bazaar</td>\n",
       "      <td>One</td>\n",
       "      <td>£26.08</td>\n",
       "    </tr>\n",
       "    <tr>\n",
       "      <th>7</th>\n",
       "      <td>A Year in Provence (Provence #1)</td>\n",
       "      <td>Four</td>\n",
       "      <td>£26.08</td>\n",
       "    </tr>\n",
       "    <tr>\n",
       "      <th>8</th>\n",
       "      <td>The Road to Little Dribbling: Adventures of an...</td>\n",
       "      <td>One</td>\n",
       "      <td>£26.08</td>\n",
       "    </tr>\n",
       "    <tr>\n",
       "      <th>9</th>\n",
       "      <td>Neither Here nor There: Travels in Europe</td>\n",
       "      <td>Three</td>\n",
       "      <td>£26.08</td>\n",
       "    </tr>\n",
       "    <tr>\n",
       "      <th>10</th>\n",
       "      <td>1,000 Places to See Before You Die</td>\n",
       "      <td>Five</td>\n",
       "      <td>£26.08</td>\n",
       "    </tr>\n",
       "  </tbody>\n",
       "</table>\n",
       "</div>"
      ],
      "text/plain": [
       "                                                Title Rating   Price\n",
       "0                             It's Only the Himalayas    Two  £26.08\n",
       "1   Full Moon over Noah’s Ark: An Odyssey to Mount...   Four  £26.08\n",
       "2   See America: A Celebration of Our National Par...  Three  £26.08\n",
       "3   Vagabonding: An Uncommon Guide to the Art of L...    Two  £26.08\n",
       "4                                Under the Tuscan Sun  Three  £26.08\n",
       "5                                  A Summer In Europe    Two  £26.08\n",
       "6                            The Great Railway Bazaar    One  £26.08\n",
       "7                    A Year in Provence (Provence #1)   Four  £26.08\n",
       "8   The Road to Little Dribbling: Adventures of an...    One  £26.08\n",
       "9           Neither Here nor There: Travels in Europe  Three  £26.08\n",
       "10                 1,000 Places to See Before You Die   Five  £26.08"
      ]
     },
     "execution_count": 114,
     "metadata": {},
     "output_type": "execute_result"
    }
   ],
   "source": [
    "df = pd.DataFrame(book_dict)\n",
    "df"
   ]
  },
  {
   "cell_type": "code",
   "execution_count": null,
   "id": "309fdd21",
   "metadata": {},
   "outputs": [],
   "source": []
  }
 ],
 "metadata": {
  "kernelspec": {
   "display_name": "Python 3 (ipykernel)",
   "language": "python",
   "name": "python3"
  },
  "language_info": {
   "codemirror_mode": {
    "name": "ipython",
    "version": 3
   },
   "file_extension": ".py",
   "mimetype": "text/x-python",
   "name": "python",
   "nbconvert_exporter": "python",
   "pygments_lexer": "ipython3",
   "version": "3.9.13"
  }
 },
 "nbformat": 4,
 "nbformat_minor": 5
}
